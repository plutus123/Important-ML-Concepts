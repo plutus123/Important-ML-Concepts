{
 "cells": [
  {
   "cell_type": "code",
   "execution_count": 2,
   "id": "4108b61d-8766-4ee4-b108-f9a87cd54c6b",
   "metadata": {},
   "outputs": [],
   "source": [
    "import matplotlib.pyplot as plt\n",
    "import numpy as np\n",
    "import pandas as pd\n",
    "import tensorflow as tf\n",
    "from keras.preprocessing.image import ImageDataGenerator"
   ]
  },
  {
   "cell_type": "code",
   "execution_count": 4,
   "id": "79b31592-dede-4d50-8f44-94f341366afc",
   "metadata": {},
   "outputs": [
    {
     "name": "stdout",
     "output_type": "stream",
     "text": [
      "Found 8000 images belonging to 2 classes.\n"
     ]
    }
   ],
   "source": [
    "train_datagen = ImageDataGenerator(rescale = 1./255,\n",
    "                                   shear_range = 0.2,\n",
    "                                   zoom_range = 0.2,\n",
    "                                   horizontal_flip = True)\n",
    "training_set = train_datagen.flow_from_directory('dataset/training_set',\n",
    "                                                 target_size = (64, 64),\n",
    "                                                 batch_size = 32,\n",
    "                                                 class_mode = 'binary')"
   ]
  },
  {
   "cell_type": "code",
   "execution_count": 5,
   "id": "55757d79-aa29-44e9-ab7d-21029020b753",
   "metadata": {},
   "outputs": [
    {
     "name": "stdout",
     "output_type": "stream",
     "text": [
      "Found 2000 images belonging to 2 classes.\n"
     ]
    }
   ],
   "source": [
    "test_datagen = ImageDataGenerator(rescale = 1./255)\n",
    "test_set = test_datagen.flow_from_directory('dataset/test_set',\n",
    "                                            target_size = (64, 64),\n",
    "                                            batch_size = 32,\n",
    "                                            class_mode = 'binary')"
   ]
  },
  {
   "cell_type": "code",
   "execution_count": 7,
   "id": "1a649f5e-a313-47b0-b7f5-0b149791de67",
   "metadata": {},
   "outputs": [],
   "source": [
    "cnn=tf.keras.models.Sequential()"
   ]
  },
  {
   "cell_type": "code",
   "execution_count": 9,
   "id": "030eb272-3d6e-4233-85ec-77215455d220",
   "metadata": {},
   "outputs": [],
   "source": [
    "cnn.add(tf.keras.layers.Conv2D(filters=32,kernel_size=3,activation=\"relu\",input_shape=[64,64,3]))"
   ]
  },
  {
   "cell_type": "code",
   "execution_count": 10,
   "id": "daf4b5a7-159d-4073-945e-3ed1ac8a24b3",
   "metadata": {},
   "outputs": [],
   "source": [
    "cnn.add(tf.keras.layers.MaxPool2D(pool_size=2 , strides=2))"
   ]
  },
  {
   "cell_type": "code",
   "execution_count": 11,
   "id": "8afad202-efce-4d79-a4e0-31a5616053ea",
   "metadata": {},
   "outputs": [],
   "source": [
    "cnn.add(tf.keras.layers.Conv2D(filters=32,kernel_size=3,activation=\"relu\"))\n",
    "cnn.add(tf.keras.layers.MaxPool2D(pool_size=2 , strides=2))"
   ]
  },
  {
   "cell_type": "code",
   "execution_count": 12,
   "id": "b36e544e-5723-46ee-8067-c8557bcdf047",
   "metadata": {},
   "outputs": [],
   "source": [
    "cnn.add(tf.keras.layers.Flatten())"
   ]
  },
  {
   "cell_type": "code",
   "execution_count": 13,
   "id": "08939dce-53b3-4c42-985c-e7964da13732",
   "metadata": {},
   "outputs": [],
   "source": [
    "cnn.add(tf.keras.layers.Dense(units=128 , activation=\"relu\"))"
   ]
  },
  {
   "cell_type": "code",
   "execution_count": 14,
   "id": "b89f5d64-bed3-4ee9-a97f-fdc5fa1f11ad",
   "metadata": {},
   "outputs": [],
   "source": [
    "cnn.add(tf.keras.layers.Dense(units=1 , activation=\"sigmoid\"))"
   ]
  },
  {
   "cell_type": "code",
   "execution_count": 15,
   "id": "5cfa51a0-66ec-43bd-bfde-4370d3b639fe",
   "metadata": {},
   "outputs": [],
   "source": [
    "cnn.compile(optimizer='adam' ,loss = \"binary_crossentropy\" , metrics=[\"accuracy\"])\n"
   ]
  },
  {
   "cell_type": "code",
   "execution_count": 16,
   "id": "13f53553-bc24-4764-a84d-6109cd064e8c",
   "metadata": {},
   "outputs": [
    {
     "name": "stdout",
     "output_type": "stream",
     "text": [
      "Epoch 1/25\n",
      "250/250 [==============================] - 15s 59ms/step - loss: 0.6733 - accuracy: 0.5803 - val_loss: 0.6133 - val_accuracy: 0.6580\n",
      "Epoch 2/25\n",
      "250/250 [==============================] - 15s 59ms/step - loss: 0.6021 - accuracy: 0.6779 - val_loss: 0.6098 - val_accuracy: 0.6610\n",
      "Epoch 3/25\n",
      "250/250 [==============================] - 15s 60ms/step - loss: 0.5678 - accuracy: 0.7034 - val_loss: 0.5316 - val_accuracy: 0.7435\n",
      "Epoch 4/25\n",
      "250/250 [==============================] - 15s 61ms/step - loss: 0.5381 - accuracy: 0.7334 - val_loss: 0.6348 - val_accuracy: 0.6685\n",
      "Epoch 5/25\n",
      "250/250 [==============================] - 15s 59ms/step - loss: 0.5158 - accuracy: 0.7476 - val_loss: 0.5191 - val_accuracy: 0.7420\n",
      "Epoch 6/25\n",
      "250/250 [==============================] - 15s 58ms/step - loss: 0.4960 - accuracy: 0.7599 - val_loss: 0.5020 - val_accuracy: 0.7635\n",
      "Epoch 7/25\n",
      "250/250 [==============================] - 15s 59ms/step - loss: 0.4899 - accuracy: 0.7591 - val_loss: 0.5068 - val_accuracy: 0.7525\n",
      "Epoch 8/25\n",
      "250/250 [==============================] - 15s 59ms/step - loss: 0.4701 - accuracy: 0.7776 - val_loss: 0.4868 - val_accuracy: 0.7685\n",
      "Epoch 9/25\n",
      "250/250 [==============================] - 15s 59ms/step - loss: 0.4584 - accuracy: 0.7832 - val_loss: 0.5690 - val_accuracy: 0.7295\n",
      "Epoch 10/25\n",
      "250/250 [==============================] - 15s 59ms/step - loss: 0.4501 - accuracy: 0.7905 - val_loss: 0.4631 - val_accuracy: 0.7815\n",
      "Epoch 11/25\n",
      "250/250 [==============================] - 15s 58ms/step - loss: 0.4421 - accuracy: 0.7914 - val_loss: 0.4538 - val_accuracy: 0.7990\n",
      "Epoch 12/25\n",
      "250/250 [==============================] - 15s 59ms/step - loss: 0.4373 - accuracy: 0.7931 - val_loss: 0.4543 - val_accuracy: 0.7945\n",
      "Epoch 13/25\n",
      "250/250 [==============================] - 15s 58ms/step - loss: 0.4343 - accuracy: 0.7993 - val_loss: 0.4566 - val_accuracy: 0.7910\n",
      "Epoch 14/25\n",
      "250/250 [==============================] - 15s 58ms/step - loss: 0.4259 - accuracy: 0.8025 - val_loss: 0.4792 - val_accuracy: 0.7715\n",
      "Epoch 15/25\n",
      "250/250 [==============================] - 15s 58ms/step - loss: 0.4072 - accuracy: 0.8139 - val_loss: 0.4579 - val_accuracy: 0.7985\n",
      "Epoch 16/25\n",
      "250/250 [==============================] - 15s 59ms/step - loss: 0.4011 - accuracy: 0.8196 - val_loss: 0.4421 - val_accuracy: 0.7995\n",
      "Epoch 17/25\n",
      "250/250 [==============================] - 15s 58ms/step - loss: 0.3836 - accuracy: 0.8257 - val_loss: 0.4483 - val_accuracy: 0.8015\n",
      "Epoch 18/25\n",
      "250/250 [==============================] - 15s 59ms/step - loss: 0.3869 - accuracy: 0.8238 - val_loss: 0.4683 - val_accuracy: 0.7890\n",
      "Epoch 19/25\n",
      "250/250 [==============================] - 15s 59ms/step - loss: 0.3777 - accuracy: 0.8309 - val_loss: 0.4404 - val_accuracy: 0.7985\n",
      "Epoch 20/25\n",
      "250/250 [==============================] - 15s 59ms/step - loss: 0.3660 - accuracy: 0.8379 - val_loss: 0.4382 - val_accuracy: 0.8010\n",
      "Epoch 21/25\n",
      "250/250 [==============================] - 15s 60ms/step - loss: 0.3610 - accuracy: 0.8382 - val_loss: 0.4317 - val_accuracy: 0.8100\n",
      "Epoch 22/25\n",
      "250/250 [==============================] - 15s 58ms/step - loss: 0.3585 - accuracy: 0.8397 - val_loss: 0.4543 - val_accuracy: 0.8080\n",
      "Epoch 23/25\n",
      "250/250 [==============================] - 15s 59ms/step - loss: 0.3491 - accuracy: 0.8434 - val_loss: 0.4437 - val_accuracy: 0.8125\n",
      "Epoch 24/25\n",
      "250/250 [==============================] - 15s 60ms/step - loss: 0.3438 - accuracy: 0.8510 - val_loss: 0.5154 - val_accuracy: 0.7800\n",
      "Epoch 25/25\n",
      "250/250 [==============================] - 15s 58ms/step - loss: 0.3382 - accuracy: 0.8469 - val_loss: 0.4481 - val_accuracy: 0.8035\n"
     ]
    },
    {
     "data": {
      "text/plain": [
       "<keras.src.callbacks.History at 0x28da99e90>"
      ]
     },
     "execution_count": 16,
     "metadata": {},
     "output_type": "execute_result"
    }
   ],
   "source": [
    "cnn.fit(x=training_set , validation_data= test_set , epochs=25)"
   ]
  },
  {
   "cell_type": "code",
   "execution_count": 24,
   "id": "98f4d687-81bc-49ee-af0c-a0fb64a24fa6",
   "metadata": {},
   "outputs": [
    {
     "name": "stdout",
     "output_type": "stream",
     "text": [
      "1/1 [==============================] - 0s 13ms/step\n"
     ]
    },
    {
     "data": {
      "text/plain": [
       "{'cats': 0, 'dogs': 1}"
      ]
     },
     "execution_count": 24,
     "metadata": {},
     "output_type": "execute_result"
    }
   ],
   "source": [
    "from keras.preprocessing import image\n",
    "test_image = image.load_img(\"dataset/prediction_set/cat_or_dog_2.jpeg\" , target_size=(64,64) )\n",
    "test_image=image.img_to_array(test_image)\n",
    "test_image=np.expand_dims(test_image, axis=0)\n",
    "result=cnn.predict(test_image)\n",
    "index=training_set.class_indices\n",
    "index"
   ]
  },
  {
   "cell_type": "code",
   "execution_count": 25,
   "id": "db824009-86e5-41b4-a427-ccf64a3dfca5",
   "metadata": {},
   "outputs": [],
   "source": [
    "if result[0][0]==1:\n",
    "    prediction = \"dog\"\n",
    "else:\n",
    "    prediction = \"cat\"\n",
    "    "
   ]
  },
  {
   "cell_type": "code",
   "execution_count": 26,
   "id": "c9f23f17-f63c-41b9-a1ec-3f6c96b0b95b",
   "metadata": {},
   "outputs": [
    {
     "name": "stdout",
     "output_type": "stream",
     "text": [
      "dog\n"
     ]
    }
   ],
   "source": [
    "print(prediction)"
   ]
  },
  {
   "cell_type": "code",
   "execution_count": null,
   "id": "0a8e55af-65ae-45e8-a570-4ff5bc076e81",
   "metadata": {},
   "outputs": [],
   "source": []
  }
 ],
 "metadata": {
  "kernelspec": {
   "display_name": "Python 3 (ipykernel)",
   "language": "python",
   "name": "python3"
  },
  "language_info": {
   "codemirror_mode": {
    "name": "ipython",
    "version": 3
   },
   "file_extension": ".py",
   "mimetype": "text/x-python",
   "name": "python",
   "nbconvert_exporter": "python",
   "pygments_lexer": "ipython3",
   "version": "3.11.5"
  }
 },
 "nbformat": 4,
 "nbformat_minor": 5
}
