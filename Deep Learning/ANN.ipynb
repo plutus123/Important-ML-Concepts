{
 "cells": [
  {
   "cell_type": "markdown",
   "id": "0dd189d8-afef-4fca-a674-ca4f8f229fbc",
   "metadata": {},
   "source": [
    "# ANN"
   ]
  },
  {
   "cell_type": "markdown",
   "id": "88a57d38-b3f2-47e7-a21e-3e151238d108",
   "metadata": {},
   "source": [
    "### Classification"
   ]
  },
  {
   "cell_type": "code",
   "execution_count": 7,
   "id": "113e2c93-90b9-4b9b-9e48-a63ddd97c29b",
   "metadata": {},
   "outputs": [],
   "source": [
    "import matplotlib.pyplot as plt\n",
    "import pandas as pd\n",
    "import numpy as np\n",
    "import tensorflow as tf"
   ]
  },
  {
   "cell_type": "code",
   "execution_count": 2,
   "id": "4cce12e0-8172-4daf-9399-1ffb4070f9b4",
   "metadata": {},
   "outputs": [
    {
     "data": {
      "text/html": [
       "<div>\n",
       "<style scoped>\n",
       "    .dataframe tbody tr th:only-of-type {\n",
       "        vertical-align: middle;\n",
       "    }\n",
       "\n",
       "    .dataframe tbody tr th {\n",
       "        vertical-align: top;\n",
       "    }\n",
       "\n",
       "    .dataframe thead th {\n",
       "        text-align: right;\n",
       "    }\n",
       "</style>\n",
       "<table border=\"1\" class=\"dataframe\">\n",
       "  <thead>\n",
       "    <tr style=\"text-align: right;\">\n",
       "      <th></th>\n",
       "      <th>RowNumber</th>\n",
       "      <th>CustomerId</th>\n",
       "      <th>Surname</th>\n",
       "      <th>CreditScore</th>\n",
       "      <th>Geography</th>\n",
       "      <th>Gender</th>\n",
       "      <th>Age</th>\n",
       "      <th>Tenure</th>\n",
       "      <th>Balance</th>\n",
       "      <th>NumOfProducts</th>\n",
       "      <th>HasCrCard</th>\n",
       "      <th>IsActiveMember</th>\n",
       "      <th>EstimatedSalary</th>\n",
       "      <th>Exited</th>\n",
       "    </tr>\n",
       "  </thead>\n",
       "  <tbody>\n",
       "    <tr>\n",
       "      <th>0</th>\n",
       "      <td>1</td>\n",
       "      <td>15634602</td>\n",
       "      <td>Hargrave</td>\n",
       "      <td>619</td>\n",
       "      <td>France</td>\n",
       "      <td>Female</td>\n",
       "      <td>42</td>\n",
       "      <td>2</td>\n",
       "      <td>0.00</td>\n",
       "      <td>1</td>\n",
       "      <td>1</td>\n",
       "      <td>1</td>\n",
       "      <td>101348.88</td>\n",
       "      <td>1</td>\n",
       "    </tr>\n",
       "    <tr>\n",
       "      <th>1</th>\n",
       "      <td>2</td>\n",
       "      <td>15647311</td>\n",
       "      <td>Hill</td>\n",
       "      <td>608</td>\n",
       "      <td>Spain</td>\n",
       "      <td>Female</td>\n",
       "      <td>41</td>\n",
       "      <td>1</td>\n",
       "      <td>83807.86</td>\n",
       "      <td>1</td>\n",
       "      <td>0</td>\n",
       "      <td>1</td>\n",
       "      <td>112542.58</td>\n",
       "      <td>0</td>\n",
       "    </tr>\n",
       "    <tr>\n",
       "      <th>2</th>\n",
       "      <td>3</td>\n",
       "      <td>15619304</td>\n",
       "      <td>Onio</td>\n",
       "      <td>502</td>\n",
       "      <td>France</td>\n",
       "      <td>Female</td>\n",
       "      <td>42</td>\n",
       "      <td>8</td>\n",
       "      <td>159660.80</td>\n",
       "      <td>3</td>\n",
       "      <td>1</td>\n",
       "      <td>0</td>\n",
       "      <td>113931.57</td>\n",
       "      <td>1</td>\n",
       "    </tr>\n",
       "    <tr>\n",
       "      <th>3</th>\n",
       "      <td>4</td>\n",
       "      <td>15701354</td>\n",
       "      <td>Boni</td>\n",
       "      <td>699</td>\n",
       "      <td>France</td>\n",
       "      <td>Female</td>\n",
       "      <td>39</td>\n",
       "      <td>1</td>\n",
       "      <td>0.00</td>\n",
       "      <td>2</td>\n",
       "      <td>0</td>\n",
       "      <td>0</td>\n",
       "      <td>93826.63</td>\n",
       "      <td>0</td>\n",
       "    </tr>\n",
       "    <tr>\n",
       "      <th>4</th>\n",
       "      <td>5</td>\n",
       "      <td>15737888</td>\n",
       "      <td>Mitchell</td>\n",
       "      <td>850</td>\n",
       "      <td>Spain</td>\n",
       "      <td>Female</td>\n",
       "      <td>43</td>\n",
       "      <td>2</td>\n",
       "      <td>125510.82</td>\n",
       "      <td>1</td>\n",
       "      <td>1</td>\n",
       "      <td>1</td>\n",
       "      <td>79084.10</td>\n",
       "      <td>0</td>\n",
       "    </tr>\n",
       "  </tbody>\n",
       "</table>\n",
       "</div>"
      ],
      "text/plain": [
       "   RowNumber  CustomerId   Surname  CreditScore Geography  Gender  Age  \\\n",
       "0          1    15634602  Hargrave          619    France  Female   42   \n",
       "1          2    15647311      Hill          608     Spain  Female   41   \n",
       "2          3    15619304      Onio          502    France  Female   42   \n",
       "3          4    15701354      Boni          699    France  Female   39   \n",
       "4          5    15737888  Mitchell          850     Spain  Female   43   \n",
       "\n",
       "   Tenure    Balance  NumOfProducts  HasCrCard  IsActiveMember  \\\n",
       "0       2       0.00              1          1               1   \n",
       "1       1   83807.86              1          0               1   \n",
       "2       8  159660.80              3          1               0   \n",
       "3       1       0.00              2          0               0   \n",
       "4       2  125510.82              1          1               1   \n",
       "\n",
       "   EstimatedSalary  Exited  \n",
       "0        101348.88       1  \n",
       "1        112542.58       0  \n",
       "2        113931.57       1  \n",
       "3         93826.63       0  \n",
       "4         79084.10       0  "
      ]
     },
     "execution_count": 2,
     "metadata": {},
     "output_type": "execute_result"
    }
   ],
   "source": [
    "data=pd.read_csv(\"Churn_Modelling.csv\")\n",
    "data.head()"
   ]
  },
  {
   "cell_type": "code",
   "execution_count": 3,
   "id": "c71ac212-823e-43fa-b5d9-8fa8a0571612",
   "metadata": {},
   "outputs": [
    {
     "data": {
      "text/plain": [
       "'2.13.0'"
      ]
     },
     "execution_count": 3,
     "metadata": {},
     "output_type": "execute_result"
    }
   ],
   "source": [
    "tf.__version__"
   ]
  },
  {
   "cell_type": "code",
   "execution_count": 4,
   "id": "c9b366ef-2297-4389-8585-2ad33899178e",
   "metadata": {},
   "outputs": [
    {
     "data": {
      "text/plain": [
       "RowNumber          0\n",
       "CustomerId         0\n",
       "Surname            0\n",
       "CreditScore        0\n",
       "Geography          0\n",
       "Gender             0\n",
       "Age                0\n",
       "Tenure             0\n",
       "Balance            0\n",
       "NumOfProducts      0\n",
       "HasCrCard          0\n",
       "IsActiveMember     0\n",
       "EstimatedSalary    0\n",
       "Exited             0\n",
       "dtype: int64"
      ]
     },
     "execution_count": 4,
     "metadata": {},
     "output_type": "execute_result"
    }
   ],
   "source": [
    "data.isna().sum()"
   ]
  },
  {
   "cell_type": "code",
   "execution_count": 5,
   "id": "14042343-d2f3-485d-aa0d-96bcc002209d",
   "metadata": {},
   "outputs": [],
   "source": [
    "X=data.iloc[ : , 3:-1].values\n",
    "y=data.iloc[ : , -1].values"
   ]
  },
  {
   "cell_type": "code",
   "execution_count": 6,
   "id": "af4df784-b4c3-4ab3-a991-7862cd65c4d8",
   "metadata": {},
   "outputs": [],
   "source": [
    "from sklearn.preprocessing import LabelEncoder\n",
    "le = LabelEncoder()\n",
    "X[ : ,2] = le.fit_transform(X[:,2])"
   ]
  },
  {
   "cell_type": "code",
   "execution_count": 7,
   "id": "a684cea0-5303-488c-8d28-fb03b2e101c1",
   "metadata": {},
   "outputs": [],
   "source": [
    "from sklearn.compose import ColumnTransformer\n",
    "from sklearn.preprocessing import OneHotEncoder\n",
    "ct = ColumnTransformer(transformers=[('encoder', OneHotEncoder(), [1])], remainder='passthrough')\n",
    "X = np.array(ct.fit_transform(X))"
   ]
  },
  {
   "cell_type": "code",
   "execution_count": 8,
   "id": "39e0d351-7973-48b9-b70f-40f0fddc7fd0",
   "metadata": {},
   "outputs": [],
   "source": [
    "from sklearn.model_selection import train_test_split\n",
    "X_train,X_test,y_train,y_test=train_test_split(X,y,test_size=0.2,random_state=42)"
   ]
  },
  {
   "cell_type": "code",
   "execution_count": 9,
   "id": "bf892608-bc16-4e48-adc8-c072e973e906",
   "metadata": {},
   "outputs": [],
   "source": [
    "from sklearn.preprocessing import StandardScaler\n",
    "sc = StandardScaler()\n",
    "X_train = sc.fit_transform(X_train)\n",
    "X_test = sc.transform(X_test)"
   ]
  },
  {
   "cell_type": "code",
   "execution_count": 10,
   "id": "bda383b2-7960-4b25-af79-f0da508e3a56",
   "metadata": {},
   "outputs": [],
   "source": [
    "ann =tf.keras.models.Sequential()"
   ]
  },
  {
   "cell_type": "code",
   "execution_count": 11,
   "id": "c1813b3b-bac5-48b1-b0de-4fe80cf89f14",
   "metadata": {},
   "outputs": [],
   "source": [
    "ann.add(tf.keras.layers.Dense(units=6 , activation='relu'))"
   ]
  },
  {
   "cell_type": "code",
   "execution_count": 12,
   "id": "23241800-5406-487b-af0e-2edd6d882403",
   "metadata": {},
   "outputs": [],
   "source": [
    "ann.add(tf.keras.layers.Dense(units=6 , activation='relu'))\n"
   ]
  },
  {
   "cell_type": "code",
   "execution_count": 13,
   "id": "b93bc20e-aac1-4d24-ae68-62abf7525ea9",
   "metadata": {},
   "outputs": [],
   "source": [
    "ann.add(tf.keras.layers.Dense(units=1 , activation='sigmoid'))"
   ]
  },
  {
   "cell_type": "code",
   "execution_count": 14,
   "id": "09554a6f-a1bd-4e6d-a2c0-380aac3a5908",
   "metadata": {},
   "outputs": [],
   "source": [
    "ann.compile(optimizer=\"adam\" , loss=\"binary_crossentropy\" , metrics=[\"accuracy\"])"
   ]
  },
  {
   "cell_type": "code",
   "execution_count": 15,
   "id": "536d74e3-5fc1-46bf-8bbe-4d75c072f6af",
   "metadata": {},
   "outputs": [
    {
     "name": "stdout",
     "output_type": "stream",
     "text": [
      "Epoch 1/100\n",
      "250/250 [==============================] - 0s 248us/step - loss: 0.5328 - accuracy: 0.7776\n",
      "Epoch 2/100\n",
      "250/250 [==============================] - 0s 232us/step - loss: 0.4647 - accuracy: 0.7945\n",
      "Epoch 3/100\n",
      "250/250 [==============================] - 0s 227us/step - loss: 0.4451 - accuracy: 0.7970\n",
      "Epoch 4/100\n",
      "250/250 [==============================] - 0s 237us/step - loss: 0.4274 - accuracy: 0.8027\n",
      "Epoch 5/100\n",
      "250/250 [==============================] - 0s 233us/step - loss: 0.4099 - accuracy: 0.8109\n",
      "Epoch 6/100\n",
      "250/250 [==============================] - 0s 231us/step - loss: 0.3956 - accuracy: 0.8155\n",
      "Epoch 7/100\n",
      "250/250 [==============================] - 0s 239us/step - loss: 0.3847 - accuracy: 0.8185\n",
      "Epoch 8/100\n",
      "250/250 [==============================] - 0s 241us/step - loss: 0.3766 - accuracy: 0.8184\n",
      "Epoch 9/100\n",
      "250/250 [==============================] - 0s 235us/step - loss: 0.3705 - accuracy: 0.8189\n",
      "Epoch 10/100\n",
      "250/250 [==============================] - 0s 232us/step - loss: 0.3666 - accuracy: 0.8381\n",
      "Epoch 11/100\n",
      "250/250 [==============================] - 0s 231us/step - loss: 0.3636 - accuracy: 0.8491\n",
      "Epoch 12/100\n",
      "250/250 [==============================] - 0s 232us/step - loss: 0.3612 - accuracy: 0.8505\n",
      "Epoch 13/100\n",
      "250/250 [==============================] - 0s 296us/step - loss: 0.3595 - accuracy: 0.8514\n",
      "Epoch 14/100\n",
      "250/250 [==============================] - 0s 239us/step - loss: 0.3579 - accuracy: 0.8529\n",
      "Epoch 15/100\n",
      "250/250 [==============================] - 0s 239us/step - loss: 0.3563 - accuracy: 0.8540\n",
      "Epoch 16/100\n",
      "250/250 [==============================] - 0s 237us/step - loss: 0.3548 - accuracy: 0.8555\n",
      "Epoch 17/100\n",
      "250/250 [==============================] - 0s 235us/step - loss: 0.3536 - accuracy: 0.8562\n",
      "Epoch 18/100\n",
      "250/250 [==============================] - 0s 235us/step - loss: 0.3523 - accuracy: 0.8584\n",
      "Epoch 19/100\n",
      "250/250 [==============================] - 0s 235us/step - loss: 0.3506 - accuracy: 0.8576\n",
      "Epoch 20/100\n",
      "250/250 [==============================] - 0s 236us/step - loss: 0.3500 - accuracy: 0.8579\n",
      "Epoch 21/100\n",
      "250/250 [==============================] - 0s 235us/step - loss: 0.3487 - accuracy: 0.8584\n",
      "Epoch 22/100\n",
      "250/250 [==============================] - 0s 227us/step - loss: 0.3479 - accuracy: 0.8599\n",
      "Epoch 23/100\n",
      "250/250 [==============================] - 0s 231us/step - loss: 0.3472 - accuracy: 0.8599\n",
      "Epoch 24/100\n",
      "250/250 [==============================] - 0s 230us/step - loss: 0.3462 - accuracy: 0.8586\n",
      "Epoch 25/100\n",
      "250/250 [==============================] - 0s 233us/step - loss: 0.3450 - accuracy: 0.8599\n",
      "Epoch 26/100\n",
      "250/250 [==============================] - 0s 236us/step - loss: 0.3445 - accuracy: 0.8586\n",
      "Epoch 27/100\n",
      "250/250 [==============================] - 0s 232us/step - loss: 0.3439 - accuracy: 0.8602\n",
      "Epoch 28/100\n",
      "250/250 [==============================] - 0s 232us/step - loss: 0.3432 - accuracy: 0.8590\n",
      "Epoch 29/100\n",
      "250/250 [==============================] - 0s 260us/step - loss: 0.3425 - accuracy: 0.8605\n",
      "Epoch 30/100\n",
      "250/250 [==============================] - 0s 238us/step - loss: 0.3419 - accuracy: 0.8608\n",
      "Epoch 31/100\n",
      "250/250 [==============================] - 0s 234us/step - loss: 0.3414 - accuracy: 0.8599\n",
      "Epoch 32/100\n",
      "250/250 [==============================] - 0s 232us/step - loss: 0.3407 - accuracy: 0.8606\n",
      "Epoch 33/100\n",
      "250/250 [==============================] - 0s 232us/step - loss: 0.3404 - accuracy: 0.8619\n",
      "Epoch 34/100\n",
      "250/250 [==============================] - 0s 236us/step - loss: 0.3394 - accuracy: 0.8605\n",
      "Epoch 35/100\n",
      "250/250 [==============================] - 0s 233us/step - loss: 0.3390 - accuracy: 0.8624\n",
      "Epoch 36/100\n",
      "250/250 [==============================] - 0s 230us/step - loss: 0.3391 - accuracy: 0.8604\n",
      "Epoch 37/100\n",
      "250/250 [==============================] - 0s 232us/step - loss: 0.3387 - accuracy: 0.8614\n",
      "Epoch 38/100\n",
      "250/250 [==============================] - 0s 231us/step - loss: 0.3385 - accuracy: 0.8620\n",
      "Epoch 39/100\n",
      "250/250 [==============================] - 0s 233us/step - loss: 0.3379 - accuracy: 0.8616\n",
      "Epoch 40/100\n",
      "250/250 [==============================] - 0s 231us/step - loss: 0.3374 - accuracy: 0.8616\n",
      "Epoch 41/100\n",
      "250/250 [==============================] - 0s 231us/step - loss: 0.3370 - accuracy: 0.8609\n",
      "Epoch 42/100\n",
      "250/250 [==============================] - 0s 234us/step - loss: 0.3370 - accuracy: 0.8615\n",
      "Epoch 43/100\n",
      "250/250 [==============================] - 0s 236us/step - loss: 0.3366 - accuracy: 0.8618\n",
      "Epoch 44/100\n",
      "250/250 [==============================] - 0s 295us/step - loss: 0.3363 - accuracy: 0.8605\n",
      "Epoch 45/100\n",
      "250/250 [==============================] - 0s 241us/step - loss: 0.3358 - accuracy: 0.8624\n",
      "Epoch 46/100\n",
      "250/250 [==============================] - 0s 233us/step - loss: 0.3357 - accuracy: 0.8629\n",
      "Epoch 47/100\n",
      "250/250 [==============================] - 0s 232us/step - loss: 0.3357 - accuracy: 0.8624\n",
      "Epoch 48/100\n",
      "250/250 [==============================] - 0s 231us/step - loss: 0.3354 - accuracy: 0.8621\n",
      "Epoch 49/100\n",
      "250/250 [==============================] - 0s 235us/step - loss: 0.3354 - accuracy: 0.8640\n",
      "Epoch 50/100\n",
      "250/250 [==============================] - 0s 233us/step - loss: 0.3348 - accuracy: 0.8618\n",
      "Epoch 51/100\n",
      "250/250 [==============================] - 0s 233us/step - loss: 0.3349 - accuracy: 0.8640\n",
      "Epoch 52/100\n",
      "250/250 [==============================] - 0s 234us/step - loss: 0.3351 - accuracy: 0.8624\n",
      "Epoch 53/100\n",
      "250/250 [==============================] - 0s 235us/step - loss: 0.3346 - accuracy: 0.8633\n",
      "Epoch 54/100\n",
      "250/250 [==============================] - 0s 240us/step - loss: 0.3339 - accuracy: 0.8640\n",
      "Epoch 55/100\n",
      "250/250 [==============================] - 0s 235us/step - loss: 0.3341 - accuracy: 0.8644\n",
      "Epoch 56/100\n",
      "250/250 [==============================] - 0s 233us/step - loss: 0.3341 - accuracy: 0.8633\n",
      "Epoch 57/100\n",
      "250/250 [==============================] - 0s 227us/step - loss: 0.3337 - accuracy: 0.8635\n",
      "Epoch 58/100\n",
      "250/250 [==============================] - 0s 227us/step - loss: 0.3338 - accuracy: 0.8627\n",
      "Epoch 59/100\n",
      "250/250 [==============================] - 0s 228us/step - loss: 0.3338 - accuracy: 0.8640\n",
      "Epoch 60/100\n",
      "250/250 [==============================] - 0s 228us/step - loss: 0.3334 - accuracy: 0.8630\n",
      "Epoch 61/100\n",
      "250/250 [==============================] - 0s 227us/step - loss: 0.3334 - accuracy: 0.8627\n",
      "Epoch 62/100\n",
      "250/250 [==============================] - 0s 229us/step - loss: 0.3334 - accuracy: 0.8643\n",
      "Epoch 63/100\n",
      "250/250 [==============================] - 0s 230us/step - loss: 0.3332 - accuracy: 0.8636\n",
      "Epoch 64/100\n",
      "250/250 [==============================] - 0s 229us/step - loss: 0.3331 - accuracy: 0.8627\n",
      "Epoch 65/100\n",
      "250/250 [==============================] - 0s 229us/step - loss: 0.3329 - accuracy: 0.8639\n",
      "Epoch 66/100\n",
      "250/250 [==============================] - 0s 232us/step - loss: 0.3330 - accuracy: 0.8648\n",
      "Epoch 67/100\n",
      "250/250 [==============================] - 0s 232us/step - loss: 0.3327 - accuracy: 0.8633\n",
      "Epoch 68/100\n",
      "250/250 [==============================] - 0s 232us/step - loss: 0.3324 - accuracy: 0.8640\n",
      "Epoch 69/100\n",
      "250/250 [==============================] - 0s 229us/step - loss: 0.3329 - accuracy: 0.8646\n",
      "Epoch 70/100\n",
      "250/250 [==============================] - 0s 277us/step - loss: 0.3322 - accuracy: 0.8644\n",
      "Epoch 71/100\n",
      "250/250 [==============================] - 0s 232us/step - loss: 0.3325 - accuracy: 0.8630\n",
      "Epoch 72/100\n",
      "250/250 [==============================] - 0s 230us/step - loss: 0.3318 - accuracy: 0.8640\n",
      "Epoch 73/100\n",
      "250/250 [==============================] - 0s 229us/step - loss: 0.3324 - accuracy: 0.8637\n",
      "Epoch 74/100\n",
      "250/250 [==============================] - 0s 228us/step - loss: 0.3320 - accuracy: 0.8629\n",
      "Epoch 75/100\n",
      "250/250 [==============================] - 0s 230us/step - loss: 0.3322 - accuracy: 0.8639\n",
      "Epoch 76/100\n",
      "250/250 [==============================] - 0s 232us/step - loss: 0.3320 - accuracy: 0.8633\n",
      "Epoch 77/100\n",
      "250/250 [==============================] - 0s 234us/step - loss: 0.3319 - accuracy: 0.8629\n",
      "Epoch 78/100\n",
      "250/250 [==============================] - 0s 232us/step - loss: 0.3319 - accuracy: 0.8635\n",
      "Epoch 79/100\n",
      "250/250 [==============================] - 0s 229us/step - loss: 0.3315 - accuracy: 0.8645\n",
      "Epoch 80/100\n",
      "250/250 [==============================] - 0s 231us/step - loss: 0.3318 - accuracy: 0.8636\n",
      "Epoch 81/100\n",
      "250/250 [==============================] - 0s 232us/step - loss: 0.3317 - accuracy: 0.8635\n",
      "Epoch 82/100\n",
      "250/250 [==============================] - 0s 228us/step - loss: 0.3315 - accuracy: 0.8637\n",
      "Epoch 83/100\n",
      "250/250 [==============================] - 0s 234us/step - loss: 0.3315 - accuracy: 0.8635\n",
      "Epoch 84/100\n",
      "250/250 [==============================] - 0s 232us/step - loss: 0.3316 - accuracy: 0.8637\n",
      "Epoch 85/100\n",
      "250/250 [==============================] - 0s 233us/step - loss: 0.3311 - accuracy: 0.8633\n",
      "Epoch 86/100\n",
      "250/250 [==============================] - 0s 235us/step - loss: 0.3316 - accuracy: 0.8641\n",
      "Epoch 87/100\n",
      "250/250 [==============================] - 0s 232us/step - loss: 0.3313 - accuracy: 0.8636\n",
      "Epoch 88/100\n",
      "250/250 [==============================] - 0s 231us/step - loss: 0.3316 - accuracy: 0.8636\n",
      "Epoch 89/100\n",
      "250/250 [==============================] - 0s 232us/step - loss: 0.3312 - accuracy: 0.8644\n",
      "Epoch 90/100\n",
      "250/250 [==============================] - 0s 231us/step - loss: 0.3316 - accuracy: 0.8651\n",
      "Epoch 91/100\n",
      "250/250 [==============================] - 0s 279us/step - loss: 0.3308 - accuracy: 0.8665\n",
      "Epoch 92/100\n",
      "250/250 [==============================] - 0s 231us/step - loss: 0.3314 - accuracy: 0.8641\n",
      "Epoch 93/100\n",
      "250/250 [==============================] - 0s 230us/step - loss: 0.3312 - accuracy: 0.8636\n",
      "Epoch 94/100\n",
      "250/250 [==============================] - 0s 232us/step - loss: 0.3311 - accuracy: 0.8637\n",
      "Epoch 95/100\n",
      "250/250 [==============================] - 0s 231us/step - loss: 0.3308 - accuracy: 0.8635\n",
      "Epoch 96/100\n",
      "250/250 [==============================] - 0s 257us/step - loss: 0.3311 - accuracy: 0.8639\n",
      "Epoch 97/100\n",
      "250/250 [==============================] - 0s 242us/step - loss: 0.3315 - accuracy: 0.8634\n",
      "Epoch 98/100\n",
      "250/250 [==============================] - 0s 229us/step - loss: 0.3309 - accuracy: 0.8636\n",
      "Epoch 99/100\n",
      "250/250 [==============================] - 0s 232us/step - loss: 0.3311 - accuracy: 0.8631\n",
      "Epoch 100/100\n",
      "250/250 [==============================] - 0s 237us/step - loss: 0.3311 - accuracy: 0.8620\n"
     ]
    },
    {
     "data": {
      "text/plain": [
       "<keras.src.callbacks.History at 0x28771b7d0>"
      ]
     },
     "execution_count": 15,
     "metadata": {},
     "output_type": "execute_result"
    }
   ],
   "source": [
    "ann.fit(X_train,y_train,batch_size=32,epochs=100)"
   ]
  },
  {
   "cell_type": "code",
   "execution_count": 16,
   "id": "c1476cc8-c89b-4da4-aac3-c2b6f4760b7a",
   "metadata": {},
   "outputs": [
    {
     "name": "stdout",
     "output_type": "stream",
     "text": [
      "63/63 [==============================] - 0s 216us/step\n",
      "[[1531   76]\n",
      " [ 193  200]]\n"
     ]
    },
    {
     "data": {
      "text/plain": [
       "0.8655"
      ]
     },
     "execution_count": 16,
     "metadata": {},
     "output_type": "execute_result"
    }
   ],
   "source": [
    "from sklearn.metrics import confusion_matrix , accuracy_score\n",
    "y_pred = ann.predict(X_test)\n",
    "y_pred = (y_pred > 0.5)\n",
    "cm=confusion_matrix(y_test, y_pred)\n",
    "print(cm)\n",
    "accuracy_score(y_test, y_pred)"
   ]
  },
  {
   "cell_type": "code",
   "execution_count": 17,
   "id": "6c3d4be3-caec-4081-be86-765c306a07e7",
   "metadata": {},
   "outputs": [
    {
     "name": "stdout",
     "output_type": "stream",
     "text": [
      "1/1 [==============================] - 0s 6ms/step\n",
      "[[False]]\n"
     ]
    }
   ],
   "source": [
    "print(ann.predict(sc.fit_transform([[1, 0, 0 ,600 , 1 , 40 , 3 , 60000 , 2 , 1 , 1 , 50000]])) > 0.5)"
   ]
  },
  {
   "cell_type": "markdown",
   "id": "16e60149-859a-49d6-bbde-b355b25fe37f",
   "metadata": {},
   "source": [
    "### Regression"
   ]
  },
  {
   "cell_type": "code",
   "execution_count": 8,
   "id": "fd1799df-6bf2-4be7-a8f3-884fb5db8ef9",
   "metadata": {},
   "outputs": [],
   "source": [
    "dataset = pd.read_excel('Folds5x2_pp.xlsx')\n",
    "X = dataset.iloc[:, :-1].values\n",
    "y = dataset.iloc[:, -1].values"
   ]
  },
  {
   "cell_type": "code",
   "execution_count": 9,
   "id": "8b3c00df-7e31-4fbe-97f4-187074fb4451",
   "metadata": {},
   "outputs": [
    {
     "data": {
      "text/html": [
       "<div>\n",
       "<style scoped>\n",
       "    .dataframe tbody tr th:only-of-type {\n",
       "        vertical-align: middle;\n",
       "    }\n",
       "\n",
       "    .dataframe tbody tr th {\n",
       "        vertical-align: top;\n",
       "    }\n",
       "\n",
       "    .dataframe thead th {\n",
       "        text-align: right;\n",
       "    }\n",
       "</style>\n",
       "<table border=\"1\" class=\"dataframe\">\n",
       "  <thead>\n",
       "    <tr style=\"text-align: right;\">\n",
       "      <th></th>\n",
       "      <th>AT</th>\n",
       "      <th>V</th>\n",
       "      <th>AP</th>\n",
       "      <th>RH</th>\n",
       "      <th>PE</th>\n",
       "    </tr>\n",
       "  </thead>\n",
       "  <tbody>\n",
       "    <tr>\n",
       "      <th>0</th>\n",
       "      <td>14.96</td>\n",
       "      <td>41.76</td>\n",
       "      <td>1024.07</td>\n",
       "      <td>73.17</td>\n",
       "      <td>463.26</td>\n",
       "    </tr>\n",
       "    <tr>\n",
       "      <th>1</th>\n",
       "      <td>25.18</td>\n",
       "      <td>62.96</td>\n",
       "      <td>1020.04</td>\n",
       "      <td>59.08</td>\n",
       "      <td>444.37</td>\n",
       "    </tr>\n",
       "    <tr>\n",
       "      <th>2</th>\n",
       "      <td>5.11</td>\n",
       "      <td>39.40</td>\n",
       "      <td>1012.16</td>\n",
       "      <td>92.14</td>\n",
       "      <td>488.56</td>\n",
       "    </tr>\n",
       "    <tr>\n",
       "      <th>3</th>\n",
       "      <td>20.86</td>\n",
       "      <td>57.32</td>\n",
       "      <td>1010.24</td>\n",
       "      <td>76.64</td>\n",
       "      <td>446.48</td>\n",
       "    </tr>\n",
       "    <tr>\n",
       "      <th>4</th>\n",
       "      <td>10.82</td>\n",
       "      <td>37.50</td>\n",
       "      <td>1009.23</td>\n",
       "      <td>96.62</td>\n",
       "      <td>473.90</td>\n",
       "    </tr>\n",
       "  </tbody>\n",
       "</table>\n",
       "</div>"
      ],
      "text/plain": [
       "      AT      V       AP     RH      PE\n",
       "0  14.96  41.76  1024.07  73.17  463.26\n",
       "1  25.18  62.96  1020.04  59.08  444.37\n",
       "2   5.11  39.40  1012.16  92.14  488.56\n",
       "3  20.86  57.32  1010.24  76.64  446.48\n",
       "4  10.82  37.50  1009.23  96.62  473.90"
      ]
     },
     "execution_count": 9,
     "metadata": {},
     "output_type": "execute_result"
    }
   ],
   "source": [
    "dataset.head()"
   ]
  },
  {
   "cell_type": "code",
   "execution_count": 10,
   "id": "7525862e-b768-461e-893e-1897606eecc0",
   "metadata": {},
   "outputs": [
    {
     "data": {
      "text/plain": [
       "AT    0\n",
       "V     0\n",
       "AP    0\n",
       "RH    0\n",
       "PE    0\n",
       "dtype: int64"
      ]
     },
     "execution_count": 10,
     "metadata": {},
     "output_type": "execute_result"
    }
   ],
   "source": [
    "dataset.isna().sum()"
   ]
  },
  {
   "cell_type": "code",
   "execution_count": 11,
   "id": "c64b385a-947e-4b91-97ba-33624c1a1922",
   "metadata": {},
   "outputs": [],
   "source": [
    "from sklearn.model_selection import train_test_split\n",
    "X_train,X_test,y_train,y_test=train_test_split(X,y,test_size=0.2,random_state=42)"
   ]
  },
  {
   "cell_type": "code",
   "execution_count": 12,
   "id": "78bda676-3067-4a5e-878b-61599fb77cd4",
   "metadata": {},
   "outputs": [],
   "source": [
    "ann=tf.keras.models.Sequential()"
   ]
  },
  {
   "cell_type": "code",
   "execution_count": 13,
   "id": "5bf8c87a-7185-413d-b9c1-4e1706b31915",
   "metadata": {},
   "outputs": [],
   "source": [
    "ann.add(tf.keras.layers.Dense(units=6,activation='relu'))"
   ]
  },
  {
   "cell_type": "code",
   "execution_count": 14,
   "id": "cea3d9c2-4adc-4b10-9794-be7dd2f01b1f",
   "metadata": {},
   "outputs": [],
   "source": [
    "ann.add(tf.keras.layers.Dense(units=6,activation='relu'))"
   ]
  },
  {
   "cell_type": "code",
   "execution_count": 15,
   "id": "89b545d1-6adf-44d2-bcc3-0d4c52b29538",
   "metadata": {},
   "outputs": [],
   "source": [
    "ann.add(tf.keras.layers.Dense(units=1))"
   ]
  },
  {
   "cell_type": "code",
   "execution_count": 16,
   "id": "d57f28a4-c7cb-4071-a15e-d84ae7867d61",
   "metadata": {},
   "outputs": [],
   "source": [
    "ann.compile(optimizer='adam',loss=\"mean_squared_error\")"
   ]
  },
  {
   "cell_type": "code",
   "execution_count": 17,
   "id": "e43eeb0b-aebe-4fcf-81a6-c040ad49019f",
   "metadata": {},
   "outputs": [
    {
     "name": "stdout",
     "output_type": "stream",
     "text": [
      "Epoch 1/100\n",
      "240/240 [==============================] - 0s 235us/step - loss: 223.4214\n",
      "Epoch 2/100\n",
      "240/240 [==============================] - 0s 223us/step - loss: 92.6192\n",
      "Epoch 3/100\n",
      "240/240 [==============================] - 0s 220us/step - loss: 66.5352\n",
      "Epoch 4/100\n",
      "240/240 [==============================] - 0s 221us/step - loss: 51.4660\n",
      "Epoch 5/100\n",
      "240/240 [==============================] - 0s 219us/step - loss: 42.2184\n",
      "Epoch 6/100\n",
      "240/240 [==============================] - 0s 218us/step - loss: 37.2718\n",
      "Epoch 7/100\n",
      "240/240 [==============================] - 0s 220us/step - loss: 34.2290\n",
      "Epoch 8/100\n",
      "240/240 [==============================] - 0s 217us/step - loss: 32.4137\n",
      "Epoch 9/100\n",
      "240/240 [==============================] - 0s 219us/step - loss: 31.1592\n",
      "Epoch 10/100\n",
      "240/240 [==============================] - 0s 217us/step - loss: 31.3615\n",
      "Epoch 11/100\n",
      "240/240 [==============================] - 0s 218us/step - loss: 30.4287\n",
      "Epoch 12/100\n",
      "240/240 [==============================] - 0s 221us/step - loss: 29.0615\n",
      "Epoch 13/100\n",
      "240/240 [==============================] - 0s 220us/step - loss: 29.0920\n",
      "Epoch 14/100\n",
      "240/240 [==============================] - 0s 220us/step - loss: 29.2194\n",
      "Epoch 15/100\n",
      "240/240 [==============================] - 0s 218us/step - loss: 28.4963\n",
      "Epoch 16/100\n",
      "240/240 [==============================] - 0s 218us/step - loss: 28.1450\n",
      "Epoch 17/100\n",
      "240/240 [==============================] - 0s 223us/step - loss: 28.2082\n",
      "Epoch 18/100\n",
      "240/240 [==============================] - 0s 219us/step - loss: 28.5951\n",
      "Epoch 19/100\n",
      "240/240 [==============================] - 0s 222us/step - loss: 27.7474\n",
      "Epoch 20/100\n",
      "240/240 [==============================] - 0s 220us/step - loss: 27.5775\n",
      "Epoch 21/100\n",
      "240/240 [==============================] - 0s 223us/step - loss: 27.7679\n",
      "Epoch 22/100\n",
      "240/240 [==============================] - 0s 226us/step - loss: 27.5235\n",
      "Epoch 23/100\n",
      "240/240 [==============================] - 0s 221us/step - loss: 27.6859\n",
      "Epoch 24/100\n",
      "240/240 [==============================] - 0s 219us/step - loss: 27.4120\n",
      "Epoch 25/100\n",
      "240/240 [==============================] - 0s 222us/step - loss: 27.2164\n",
      "Epoch 26/100\n",
      "240/240 [==============================] - 0s 219us/step - loss: 27.4922\n",
      "Epoch 27/100\n",
      "240/240 [==============================] - 0s 223us/step - loss: 26.9773\n",
      "Epoch 28/100\n",
      "240/240 [==============================] - 0s 226us/step - loss: 27.3765\n",
      "Epoch 29/100\n",
      "240/240 [==============================] - 0s 224us/step - loss: 27.0539\n",
      "Epoch 30/100\n",
      "240/240 [==============================] - 0s 250us/step - loss: 28.1243\n",
      "Epoch 31/100\n",
      "240/240 [==============================] - 0s 228us/step - loss: 26.9042\n",
      "Epoch 32/100\n",
      "240/240 [==============================] - 0s 226us/step - loss: 27.8065\n",
      "Epoch 33/100\n",
      "240/240 [==============================] - 0s 223us/step - loss: 28.2695\n",
      "Epoch 34/100\n",
      "240/240 [==============================] - 0s 224us/step - loss: 26.8203\n",
      "Epoch 35/100\n",
      "240/240 [==============================] - 0s 227us/step - loss: 27.5819\n",
      "Epoch 36/100\n",
      "240/240 [==============================] - 0s 223us/step - loss: 26.8797\n",
      "Epoch 37/100\n",
      "240/240 [==============================] - 0s 223us/step - loss: 27.3457\n",
      "Epoch 38/100\n",
      "240/240 [==============================] - 0s 224us/step - loss: 28.2154\n",
      "Epoch 39/100\n",
      "240/240 [==============================] - 0s 228us/step - loss: 26.7999\n",
      "Epoch 40/100\n",
      "240/240 [==============================] - 0s 225us/step - loss: 27.0758\n",
      "Epoch 41/100\n",
      "240/240 [==============================] - 0s 223us/step - loss: 27.2738\n",
      "Epoch 42/100\n",
      "240/240 [==============================] - 0s 225us/step - loss: 27.0738\n",
      "Epoch 43/100\n",
      "240/240 [==============================] - 0s 223us/step - loss: 26.9139\n",
      "Epoch 44/100\n",
      "240/240 [==============================] - 0s 223us/step - loss: 26.8037\n",
      "Epoch 45/100\n",
      "240/240 [==============================] - 0s 228us/step - loss: 27.4084\n",
      "Epoch 46/100\n",
      "240/240 [==============================] - 0s 221us/step - loss: 26.6959\n",
      "Epoch 47/100\n",
      "240/240 [==============================] - 0s 221us/step - loss: 27.6183\n",
      "Epoch 48/100\n",
      "240/240 [==============================] - 0s 228us/step - loss: 27.2182\n",
      "Epoch 49/100\n",
      "240/240 [==============================] - 0s 221us/step - loss: 27.5206\n",
      "Epoch 50/100\n",
      "240/240 [==============================] - 0s 231us/step - loss: 26.3979\n",
      "Epoch 51/100\n",
      "240/240 [==============================] - 0s 227us/step - loss: 28.0155\n",
      "Epoch 52/100\n",
      "240/240 [==============================] - 0s 226us/step - loss: 26.6985\n",
      "Epoch 53/100\n",
      "240/240 [==============================] - 0s 223us/step - loss: 27.3624\n",
      "Epoch 54/100\n",
      "240/240 [==============================] - 0s 227us/step - loss: 27.2998\n",
      "Epoch 55/100\n",
      "240/240 [==============================] - 0s 220us/step - loss: 27.0663\n",
      "Epoch 56/100\n",
      "240/240 [==============================] - 0s 221us/step - loss: 27.0361\n",
      "Epoch 57/100\n",
      "240/240 [==============================] - 0s 277us/step - loss: 26.8606\n",
      "Epoch 58/100\n",
      "240/240 [==============================] - 0s 224us/step - loss: 27.0078\n",
      "Epoch 59/100\n",
      "240/240 [==============================] - 0s 219us/step - loss: 27.1835\n",
      "Epoch 60/100\n",
      "240/240 [==============================] - 0s 223us/step - loss: 27.2892\n",
      "Epoch 61/100\n",
      "240/240 [==============================] - 0s 219us/step - loss: 27.4691\n",
      "Epoch 62/100\n",
      "240/240 [==============================] - 0s 226us/step - loss: 27.0718\n",
      "Epoch 63/100\n",
      "240/240 [==============================] - 0s 225us/step - loss: 27.7655\n",
      "Epoch 64/100\n",
      "240/240 [==============================] - 0s 223us/step - loss: 27.1859\n",
      "Epoch 65/100\n",
      "240/240 [==============================] - 0s 222us/step - loss: 26.7301\n",
      "Epoch 66/100\n",
      "240/240 [==============================] - 0s 222us/step - loss: 27.2638\n",
      "Epoch 67/100\n",
      "240/240 [==============================] - 0s 225us/step - loss: 26.9389\n",
      "Epoch 68/100\n",
      "240/240 [==============================] - 0s 225us/step - loss: 26.7358\n",
      "Epoch 69/100\n",
      "240/240 [==============================] - 0s 223us/step - loss: 26.8604\n",
      "Epoch 70/100\n",
      "240/240 [==============================] - 0s 224us/step - loss: 26.9415\n",
      "Epoch 71/100\n",
      "240/240 [==============================] - 0s 225us/step - loss: 27.2930\n",
      "Epoch 72/100\n",
      "240/240 [==============================] - 0s 224us/step - loss: 27.1721\n",
      "Epoch 73/100\n",
      "240/240 [==============================] - 0s 224us/step - loss: 27.6434\n",
      "Epoch 74/100\n",
      "240/240 [==============================] - 0s 223us/step - loss: 27.4443\n",
      "Epoch 75/100\n",
      "240/240 [==============================] - 0s 223us/step - loss: 27.1387\n",
      "Epoch 76/100\n",
      "240/240 [==============================] - 0s 222us/step - loss: 27.1568\n",
      "Epoch 77/100\n",
      "240/240 [==============================] - 0s 224us/step - loss: 27.0723\n",
      "Epoch 78/100\n",
      "240/240 [==============================] - 0s 224us/step - loss: 27.0625\n",
      "Epoch 79/100\n",
      "240/240 [==============================] - 0s 221us/step - loss: 27.2852\n",
      "Epoch 80/100\n",
      "240/240 [==============================] - 0s 221us/step - loss: 27.8413\n",
      "Epoch 81/100\n",
      "240/240 [==============================] - 0s 221us/step - loss: 27.8140\n",
      "Epoch 82/100\n",
      "240/240 [==============================] - 0s 227us/step - loss: 26.9308\n",
      "Epoch 83/100\n",
      "240/240 [==============================] - 0s 292us/step - loss: 26.8028\n",
      "Epoch 84/100\n",
      "240/240 [==============================] - 0s 223us/step - loss: 26.6874\n",
      "Epoch 85/100\n",
      "240/240 [==============================] - 0s 226us/step - loss: 27.4718\n",
      "Epoch 86/100\n",
      "240/240 [==============================] - 0s 227us/step - loss: 26.9391\n",
      "Epoch 87/100\n",
      "240/240 [==============================] - 0s 222us/step - loss: 26.9229\n",
      "Epoch 88/100\n",
      "240/240 [==============================] - 0s 222us/step - loss: 27.5649\n",
      "Epoch 89/100\n",
      "240/240 [==============================] - 0s 221us/step - loss: 26.8992\n",
      "Epoch 90/100\n",
      "240/240 [==============================] - 0s 221us/step - loss: 26.9650\n",
      "Epoch 91/100\n",
      "240/240 [==============================] - 0s 222us/step - loss: 27.8817\n",
      "Epoch 92/100\n",
      "240/240 [==============================] - 0s 221us/step - loss: 27.0393\n",
      "Epoch 93/100\n",
      "240/240 [==============================] - 0s 221us/step - loss: 27.4727\n",
      "Epoch 94/100\n",
      "240/240 [==============================] - 0s 222us/step - loss: 26.7119\n",
      "Epoch 95/100\n",
      "240/240 [==============================] - 0s 221us/step - loss: 27.4878\n",
      "Epoch 96/100\n",
      "240/240 [==============================] - 0s 220us/step - loss: 27.6977\n",
      "Epoch 97/100\n",
      "240/240 [==============================] - 0s 219us/step - loss: 28.0422\n",
      "Epoch 98/100\n",
      "240/240 [==============================] - 0s 218us/step - loss: 26.5619\n",
      "Epoch 99/100\n",
      "240/240 [==============================] - 0s 221us/step - loss: 27.4312\n",
      "Epoch 100/100\n",
      "240/240 [==============================] - 0s 219us/step - loss: 27.3469\n"
     ]
    },
    {
     "data": {
      "text/plain": [
       "<keras.src.callbacks.History at 0x2901a1a10>"
      ]
     },
     "execution_count": 17,
     "metadata": {},
     "output_type": "execute_result"
    }
   ],
   "source": [
    "ann.fit(X_train,y_train,batch_size=32,epochs=100)"
   ]
  },
  {
   "cell_type": "code",
   "execution_count": 18,
   "id": "5c956f52-5d7c-4de9-9bbe-f6885bb3718c",
   "metadata": {},
   "outputs": [
    {
     "name": "stdout",
     "output_type": "stream",
     "text": [
      "60/60 [==============================] - 0s 230us/step\n",
      "[[456.66 455.27]\n",
      " [438.67 436.31]\n",
      " [433.61 440.68]\n",
      " ...\n",
      " [481.17 479.53]\n",
      " [435.73 435.76]\n",
      " [459.79 457.1 ]]\n"
     ]
    }
   ],
   "source": [
    "y_pred = ann.predict(X_test)\n",
    "np.set_printoptions(precision=2)\n",
    "print(np.concatenate((y_pred.reshape(len(y_pred),1), y_test.reshape(len(y_test),1)),1))"
   ]
  },
  {
   "cell_type": "code",
   "execution_count": null,
   "id": "6ffe1672-838f-45f2-9d53-35c9131a06e4",
   "metadata": {},
   "outputs": [],
   "source": []
  }
 ],
 "metadata": {
  "kernelspec": {
   "display_name": "Python 3 (ipykernel)",
   "language": "python",
   "name": "python3"
  },
  "language_info": {
   "codemirror_mode": {
    "name": "ipython",
    "version": 3
   },
   "file_extension": ".py",
   "mimetype": "text/x-python",
   "name": "python",
   "nbconvert_exporter": "python",
   "pygments_lexer": "ipython3",
   "version": "3.11.5"
  }
 },
 "nbformat": 4,
 "nbformat_minor": 5
}
